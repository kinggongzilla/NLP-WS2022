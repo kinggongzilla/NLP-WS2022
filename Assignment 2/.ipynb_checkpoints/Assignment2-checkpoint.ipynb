{
 "cells": [
  {
   "cell_type": "markdown",
   "metadata": {},
   "source": [
    "Please fill out the information of your group!\n",
    "\n",
    "| <p style=\"text-align: center;\">First Name</p>  | <p style=\"text-align: center;\">Family Name</p> | Matr.-No. |\n",
    "| ---------------------------------------------- | ---------------------------------------------- | -------- |\n",
    "| <p style=\"text-align: left\">*Florian*</p>| <p style=\"text-align: left\">*Haslauer*</p> | *k12008697* |\n",
    "| <p style=\"text-align: left\">*David*</p>| <p style=\"text-align: left\">*Hauser*</p> | *k01552420* |\n",
    "\n"
   ]
  },
  {
   "cell_type": "markdown",
   "metadata": {},
   "source": [
    "<h2 style=\"text-align: center\">344.105/6/7 UE: Natural Language Processing (WS2022/23)</h2>\n",
    "<h1 style=\"color:rgb(0,120,170)\">Assignment 2</h1>\n",
    "<h2 style=\"color:rgb(0,120,170)\">Getting to Know Word Embedding!</h2>"
   ]
  },
  {
   "cell_type": "markdown",
   "metadata": {},
   "source": [
    "<div style=\"background-color:rgb(224, 243, 255)\">\n",
    "<b>Terms of Use</b><br>\n",
    "This  material is prepared for educational purposes at the Johannes Kepler University Linz (JKU), and is exclusively provided to the registered students of the mentioned course at JKU. It is strictly forbidden to distribute the current file, the contents of the assignment, and its solution. The use or reproduction of this manuscript is only allowed for educational purposes in non-profit organizations, while in this case, the explicit prior acceptance of the author(s) is required.\n",
    "\n",
    "**Author:** Navid Rekab-saz<br>\n",
    "**Email:** navid.rekabsaz@jku.at<br>\n",
    "\n",
    "</div>"
   ]
  },
  {
   "cell_type": "markdown",
   "metadata": {},
   "source": [
    "<h2>Table of contents</h2>\n",
    "<ol>\n",
    "    <a href=\"#section-general-guidelines\"><li style=\"font-size:large;font-weight:bold\">General Guidelines</li></a>\n",
    "    <a href=\"#section-taskA\"><li style=\"font-size:large;font-weight:bold\">Task A: Words Similarity and Nearest Neighbors (15 points)</li></a>\n",
    "    <a href=\"#section-taskB\"><li style=\"font-size:large;font-weight:bold\">Task B: Document Classification with Word Embedding (15 points)</li></a>\n",
    "    <a href=\"#section-taskC\"><li style=\"font-size:large;font-weight:bold\">Task C: Classification with sent2vec Document Embeddings (2 extra point)</li></a>\n",
    "    <a href=\"#section-references\"><li style=\"font-size:large;font-weight:bold\">References</li></a>\n",
    "    \n",
    "</ol>"
   ]
  },
  {
   "cell_type": "markdown",
   "metadata": {},
   "source": [
    "<a name=\"section-general-guidelines\"></a><h2 style=\"color:rgb(0,120,170)\">General Guidelines</h2>"
   ]
  },
  {
   "cell_type": "markdown",
   "metadata": {},
   "source": [
    "<div style=\"background-color:rgb(224, 243, 255)\">\n",
    "\n",
    "### Assignment objective\n",
    "The aim of this assignment is to get familiarized with using word embedding (WE) models in practice. The assignment in total has **30 points**; it also offers **2 extra points** which can cover any missing point.\n",
    "\n",
    "This Notebook encompasses all aspects of the assignment, namely the descriptions of tasks as well as your solutions and reports. Feel free to add any required cell for solutions. The cells can contain code, reports, charts, tables, or any other material, required for the assignment. Feel free to provide the solutions in an interactive and visual way! \n",
    "\n",
    "Please discuss any unclear point in the assignment in the provided forum in MOODLE. It is also encouraged to provide answers to your peer's questions. However when submitting a post, keep in mind to avoid providing solutions. Please let the tutor(s) know shall you find any error or unclarity in the assignment.\n",
    "\n",
    "</div>"
   ]
  },
  {
   "cell_type": "markdown",
   "metadata": {},
   "source": [
    "<div style=\"background-color:rgb(224, 243, 255)\">\n",
    "\n",
    "### Libraries & Dataset\n",
    "\n",
    "The assignment should be implemented with recent versions of `Python` (>3.7). Any standard Python library can be used, so far that the library is free and can be simply installed using `pip` or `conda`. Examples of potentially useful libraries are `scikit-learn`, `numpy`, `scipy`, `gensim`, `nltk`, `spaCy`, and `AllenNLP`. Use the latest stable version of each library.\n",
    "\n",
    "To conduct the experiments, we use a subset of the `HumSet` dataset [1] (https://blog.thedeep.io/humset/). `HumSet` is created by the DEEP (https://www.thedeep.io) project – an open source platform which aims to facilitate processing of textual data for international humanitarian response organizations. The platform enables the classification of text excerpts, extracted from news and reports into a set of domain specific classes. The provided dataset contains the classes (labels) referring to the humanitarian sectors like agriculture, health, and protection. The dataset contains an overall number of 17,301 data points. \n",
    "\n",
    "Download the dataset from [this link](https://drive.jku.at/filr/public-link/file-download/0cce88f083887a0401841aee8fab3d36/44093/-2905493136371866025/nlp2022_23_data.zip).\n",
    "\n",
    "the provided zip file consists of the following files:\n",
    "- `thedeep.subset.train.txt`: Train set in csv format with three fields: sentence_id, text, and label.\n",
    "- `thedeep.subset.validation.txt`: Validation set in csv format with three fields: sentence_id, text, and label.\n",
    "- `thedeep.subset.test.txt`: Test set in csv format with three fields: sentence_id, text, and label.\n",
    "- `thedeep.subset.label.txt`: Captions of the labels.\n",
    "- `thedeep.ToU.txt`: Terms of use of the dataset.\n",
    "\n",
    "[1] HumSet: Dataset of Multilingual Information Extraction and Classification for Humanitarian Crises Response\n",
    "*Selim Fekih, Nicolo' Tamagnone, Benjamin Minixhofer, Ranjan Shrestha, Ximena Contla, Ewan Oglethorpe and Navid Rekabsaz.* \n",
    "In Findings of the 2022 Conference on Empirical Methods in Natural Language Processing (Findings of EMNLP), December 2022.\n",
    "\n",
    "</div>"
   ]
  },
  {
   "cell_type": "markdown",
   "metadata": {},
   "source": [
    "<div style=\"background-color:rgb(224, 243, 255)\">\n",
    "\n",
    "### Submission\n",
    "\n",
    "Each group should submit the following two files:\n",
    "\n",
    "- One Jupyter Notebook file (`.ipynb`), containing all the code, results, visualizations, etc. **In the submitted Notebook, all the results and visualizations should already be present, and can be observed simply by loading the Notebook in a browser.** The Notebook must be self-contained, meaning that (if necessary) one can run all the cells from top to bottom without any error. Do not forget to put in your names and student numbers in the first cell of the Notebook. \n",
    "- The HTML file (`.html`) achieved from exporting the Jupyter Notebook to HTML (Download As HTML).\n",
    "\n",
    "You do not need to include the data files in the submission.\n",
    "\n",
    "\n",
    "</div>"
   ]
  },
  {
   "cell_type": "markdown",
   "metadata": {},
   "source": [
    "<a name=\"section-taskA\"></a><h2 style=\"color:rgb(0,120,170)\">Task A: Words Similarity and Nearest Neighbors (15 points)</h2>"
   ]
  },
  {
   "cell_type": "markdown",
   "metadata": {},
   "source": [
    "<div style=\"background-color:rgb(224, 243, 255)\">\n",
    "\n",
    "**Loading a word embedding (WE) model (1 points).** Download a pre-trained word embedding model such as word2vec (https://code.google.com/archive/p/word2vec/) or GloVe (https://nlp.stanford.edu/projects/glove/). You can load the downloaded vectors into arrays, or use libraries such as `gensim` to download and process the vectors. \n",
    "\n",
    "**Calculating word-to-word similarities (4 points).** Select <ins>5 arbitrary words</ins> from 5 different topics like objects, science disciplines, verbs, adjectives, animals, etc. Let us refer to these words as *source words*. For each source word, calculate its cosine similarities to <ins>6 target words</ins>. The target words of each source word are also selected by you and should cover various levels of semantic relations – according to your linguistic judgement – to the source word, namely from highly-related to not related at all. Organize the target words in tables, such that the target words of each source word are sorted from the highest to the lowest relevance (according to your judgement). Consider the following points:\n",
    "\n",
    "- **Implementation (2/4 points):** Implement cosine similarity as a function that takes two vectors and returns the similarity score. Implement cosine by yourself and do NOT use the provided functionalities of any library.\n",
    "- **Reporting and observations (2/4 points):** Report the calculated similarities side by side with your word-to-word semantic relevance judgements in tables. Compare the results and report your observations.  \n",
    "\n",
    "**Calculating nearest neighbors (10 points).** For the 5 source words, retrieve the $k=10$ nearest neighbors using the word embedding model, namely the words with the highest similarities to the source word. Consider the following points: \n",
    "    \n",
    "- **Overall implementation (3/10 points):** your implemented function takes a source vector, a set of target vectors, and the $k$ parameter, and returns the $k$ nearest neighbors and their similarity scores. Implement nearest neighbor calculation by yourself and do NOT use the provided functionalities of any library.\n",
    "- **Similarity metrics (2/10 points):** execute the calculation of nearest neighbors according to <ins>two similarity metrics</ins> namely cosine and dot product.\n",
    "- **Efficiency (3/10 points):** your nearest neighbor functions should provide an *efficient* calculation of nearest neighbors. An inefficient way (which should be avoided!) would be looping over the set of vectors in the word embedding model, and one by one calculating the cosine/dot product similarity of the source vector to each of the target vectors. As a hint for an efficient way, consider that in `numpy` (and other libraries), calculating the dot product of a vector to a matrix is much faster than the dot products of the vector to each vector of the matrix.\n",
    "- **Reporting and observations (2/10 points):** report the results in tables, which enable comparing between the outputs of the two similarity metrics. Which similarity metric would you prefer? Report your observations.\n",
    "\n",
    "</div>"
   ]
  },
  {
   "cell_type": "code",
   "execution_count": 1,
   "metadata": {},
   "outputs": [],
   "source": [
    "import numpy as np\n",
    "from tabulate import tabulate"
   ]
  },
  {
   "cell_type": "markdown",
   "metadata": {},
   "source": [
    "## Loading a word embedding (WE) model "
   ]
  },
  {
   "cell_type": "code",
   "execution_count": 2,
   "metadata": {},
   "outputs": [],
   "source": [
    "embeddings_dict = {}\n",
    "with open(\"glove.6B/glove.6B.50d.txt\", 'r') as f:\n",
    "    for line in f:\n",
    "        values = line.split()\n",
    "        word = values[0]\n",
    "        vector = np.asarray(values[1:], \"float32\")\n",
    "        embeddings_dict[word] = vector"
   ]
  },
  {
   "cell_type": "markdown",
   "metadata": {},
   "source": [
    "## Calculating word-to-word similarities"
   ]
  },
  {
   "cell_type": "markdown",
   "metadata": {},
   "source": [
    "source words:"
   ]
  },
  {
   "cell_type": "code",
   "execution_count": 3,
   "metadata": {},
   "outputs": [
    {
     "name": "stdout",
     "output_type": "stream",
     "text": [
      "source words: ['banana', 'car', 'football', 'dog', 'shirt']\n"
     ]
    }
   ],
   "source": [
    "source_words = ['banana', 'car', 'football', 'dog', 'shirt']\n",
    "print('source words: {}'.format(source_words))"
   ]
  },
  {
   "cell_type": "markdown",
   "metadata": {},
   "source": [
    "target words:"
   ]
  },
  {
   "cell_type": "code",
   "execution_count": 4,
   "metadata": {},
   "outputs": [],
   "source": [
    "target_words = [['apple', 'carrot', 'chips', 'burger', 'water', 'pen'], \n",
    "                ['bus', 'train', 'motorcycle', 'bike', 'radio', 'pen'], \n",
    "                ['soccer', 'tennis', 'golf', 'field', 'shoes', 'pen'],\n",
    "                ['cat', 'cow', 'spider', 'human', 'tree', 'pen'], \n",
    "                ['jacket', 'trousers', 'socks', 'shoes', 'blanket', 'cow']]\n",
    "for source, target in zip(source_words, target_words):\n",
    "    pass\n",
    "    #print('ordered target words for {}: \\n{}\\n'.format(source, target))"
   ]
  },
  {
   "cell_type": "markdown",
   "metadata": {},
   "source": [
    "Cosine similarity implementation:"
   ]
  },
  {
   "cell_type": "code",
   "execution_count": 5,
   "metadata": {},
   "outputs": [],
   "source": [
    "def cos_sim(a, b):\n",
    "    a_norm = 0\n",
    "    b_norm = 0\n",
    "    ab = 0\n",
    "    for a_i, b_i in zip(a, b):\n",
    "        a_norm += a_i**2\n",
    "        b_norm += b_i**2\n",
    "        ab += a_i * b_i\n",
    "    return ab/((a_norm**0.5)* (b_norm**0.5))"
   ]
  },
  {
   "cell_type": "markdown",
   "metadata": {},
   "source": [
    "cosine similarities of target words to source word:"
   ]
  },
  {
   "cell_type": "code",
   "execution_count": 6,
   "metadata": {},
   "outputs": [
    {
     "name": "stdout",
     "output_type": "stream",
     "text": [
      "banana      similarity\n",
      "--------  ------------\n",
      "apple         0.560793\n",
      "carrot        0.5381\n",
      "chips         0.448544\n",
      "burger        0.444641\n",
      "water         0.382933\n",
      "pen           0.180006\n",
      "\n",
      "\n",
      "car           similarity\n",
      "----------  ------------\n",
      "bus             0.821051\n",
      "train           0.765823\n",
      "motorcycle      0.78665\n",
      "bike            0.725685\n",
      "radio           0.402501\n",
      "pen             0.263618\n",
      "\n",
      "\n",
      "football      similarity\n",
      "----------  ------------\n",
      "soccer          0.896451\n",
      "tennis          0.596891\n",
      "golf            0.562592\n",
      "field           0.549233\n",
      "shoes           0.257901\n",
      "pen             0.186653\n",
      "\n",
      "\n",
      "dog       similarity\n",
      "------  ------------\n",
      "cat         0.921801\n",
      "cow         0.663775\n",
      "spider      0.630615\n",
      "human       0.39501\n",
      "tree        0.543924\n",
      "pen         0.482516\n",
      "\n",
      "\n",
      "shirt       similarity\n",
      "--------  ------------\n",
      "jacket        0.875471\n",
      "trousers      0.825621\n",
      "socks         0.810963\n",
      "shoes         0.798044\n",
      "blanket       0.532099\n",
      "cow           0.285\n",
      "\n",
      "\n"
     ]
    }
   ],
   "source": [
    "sim_target = []\n",
    "for source, targets in zip(source_words, target_words):\n",
    "    source_sim = []\n",
    "    source_table = []\n",
    "    for target in targets:\n",
    "        sim = cos_sim(embeddings_dict[source], embeddings_dict[target])\n",
    "        source_sim.append(sim)\n",
    "        source_table.append([target, sim])\n",
    "    sim_target.append(source_sim)\n",
    "    print(tabulate(source_table, headers=[source, 'similarity']))\n",
    "    print('\\n')\n"
   ]
  },
  {
   "cell_type": "markdown",
   "metadata": {},
   "source": [
    "The similarities are mainly all in the same order as my judgement even if its mostly closer than expected. The only difference is that \"pen\" and \"tree\" have a higher similarity to \"dog\" than \"human\"."
   ]
  },
  {
   "cell_type": "markdown",
   "metadata": {},
   "source": [
    "## Calculating nearest neighbors"
   ]
  },
  {
   "cell_type": "markdown",
   "metadata": {},
   "source": [
    "Overall implementation:"
   ]
  },
  {
   "cell_type": "code",
   "execution_count": 7,
   "metadata": {},
   "outputs": [],
   "source": [
    "def knn_cos(source, targets, k):\n",
    "    target_matrix = [embeddings_dict[target] for target in targets]\n",
    "    source_norm = np.linalg.norm(embeddings_dict[source])\n",
    "    target_norm = [np.linalg.norm(a)*source_norm for a in target_matrix]\n",
    "    sims = target_matrix @ embeddings_dict[source] / target_norm\n",
    "    nn = [[a, b] for a, b in zip(targets, sims)]\n",
    "    nn.sort(key=lambda x: -x[1])\n",
    "    return nn[:k]\n",
    "\n",
    "def knn_dot(source, targets, k):\n",
    "    target_matrix = [embeddings_dict[target] for target in targets]\n",
    "    sims = target_matrix @ embeddings_dict[source]\n",
    "    nn = [[a, b] for a, b in zip(targets, sims)]\n",
    "    nn.sort(key=lambda x: -x[1])\n",
    "    return nn[:k]"
   ]
  },
  {
   "cell_type": "markdown",
   "metadata": {},
   "source": [
    "Calculate with different similarity metrics:"
   ]
  },
  {
   "cell_type": "code",
   "execution_count": 8,
   "metadata": {},
   "outputs": [
    {
     "name": "stdout",
     "output_type": "stream",
     "text": [
      "banana_cos      cos_sim  banana_dot      dot product\n",
      "------------  ---------  ------------  -------------\n",
      "apple          0.560793  apple              14.4178\n",
      "carrot         0.5381    chips              12.5142\n",
      "chips          0.448544  carrot             11.9265\n",
      "burger         0.444641  water              11.0901\n",
      "water          0.382933  burger              9.00178\n",
      "\n",
      "\n",
      "car_cos       cos_sim  car_dot       dot product\n",
      "----------  ---------  ----------  -------------\n",
      "bus          0.821051  bus               26.1425\n",
      "motorcycle   0.78665   motorcycle        23.469\n",
      "train        0.765823  train             22.5868\n",
      "bike         0.725685  bike              21.137\n",
      "radio        0.402501  radio             13.3274\n",
      "\n",
      "\n",
      "football_cos      cos_sim  football_dot      dot product\n",
      "--------------  ---------  --------------  -------------\n",
      "soccer           0.896451  soccer               30.0293\n",
      "tennis           0.596891  tennis               21.8135\n",
      "golf             0.562592  golf                 18.3814\n",
      "field            0.549233  field                17.3316\n",
      "shoes            0.257901  shoes                 8.18403\n",
      "\n",
      "\n",
      "dog_cos      cos_sim  dog_dot      dot product\n",
      "---------  ---------  ---------  -------------\n",
      "cat         0.9218    cat              19.7391\n",
      "cow         0.663775  cow              16.5382\n",
      "spider      0.630615  spider           14.1995\n",
      "tree        0.543924  tree             13.8604\n",
      "pen         0.482516  human            11.0179\n",
      "\n",
      "\n",
      "shirt_cos      cos_sim  shirt_dot      dot product\n",
      "-----------  ---------  -----------  -------------\n",
      "jacket        0.875471  jacket             26.5475\n",
      "trousers      0.825621  trousers           26.0724\n",
      "socks         0.810963  shoes              23.1847\n",
      "shoes         0.798044  socks              22.8194\n",
      "blanket       0.532099  blanket            13.6961\n",
      "\n",
      "\n"
     ]
    }
   ],
   "source": [
    "nn_cos = []\n",
    "nn_dot = []\n",
    "for source, target in zip(source_words, target_words):\n",
    "    nn_cos.append(knn_cos(source, target, 5))\n",
    "    nn_dot.append(knn_dot(source, target, 5))\n",
    "for source, cos, dot in zip(source_words, nn_cos, nn_dot):\n",
    "    source_table = []\n",
    "    for c, d in zip(cos, dot):\n",
    "        source_table.append([c[0], c[1], d[0], d[1]])\n",
    "    print(tabulate(source_table, headers = [(source + '_cos'), 'cos_sim', (source + '_dot'), 'dot product']))\n",
    "    print('\\n')"
   ]
  },
  {
   "cell_type": "markdown",
   "metadata": {},
   "source": [
    "The order is mostly the same between cosine similarity and dot product, however, for \"banana\" and \"shirt\" cosine similarity has the better performance in my judgement. Dot product on the other hand performs slightly better on \"dog\" in my opinion. <br>\n",
    "The main difference in the similarities is that cosine similarity is always a number between 0 and 1, while dot product is not. <br>\n",
    "All in all I would prefer the cosine similarity."
   ]
  },
  {
   "cell_type": "markdown",
   "metadata": {},
   "source": [
    "<a name=\"section-taskB\"></a><h2 style=\"color:rgb(0,120,170)\">Task B: Document Classification with WE (15 points)</h2>"
   ]
  },
  {
   "cell_type": "markdown",
   "metadata": {},
   "source": [
    "<div style=\"background-color:rgb(224, 243, 255)\">\n",
    "\n",
    "This task follows the same instruction for document classification as provided in Assignment 1. You are indeed free to reuse any part of your code in Assignment 1 for this task. In Assignment 1, the representation of each document was created using a bag of words representation followed by dimensionality reduction. In this task, the document representations are created from the pre-trained word embeddings.\n",
    "\n",
    "**Map word embeddings to dictionary words (5 points).** For every word in the dictionary (as discussed and created in Assignment 1), fetch the corresponding word embedding from the pre-trained model. If no embedding is found, initialize the corresponding word embedding randomly.\n",
    "\n",
    "**Document embedding as the average of word embeddings (5 points).** Using the word embeddings, the representation of each document is defined as the *mean of the vectors of each document's words*. In particular, given the document $d$, consisting of words $\\left[ v_1, v_2, ..., v_{|d|} \\right]$, the document representation $\\mathbf{e}_d$ is defined as:\n",
    "\n",
    "$\\mathbf{e}_d = \\frac{1}{|d|}\\sum_{i=1}^{|d|}{\\mathbf{e}_{v_i}}$\n",
    "\n",
    "where $\\mathbf{e}_{v}$ is the vector of the word $v$, and $|d|$ is the length of the document.\n",
    "\n",
    "**Classification and evaluation (5 points)** Using these new document representations, apply <ins>three classification algorithms</ins> and report the evaluation results (based on accuracy metric) on the test set.\n",
    "\n",
    "</div>"
   ]
  },
  {
   "cell_type": "code",
   "execution_count": null,
   "metadata": {},
   "outputs": [],
   "source": []
  },
  {
   "cell_type": "code",
   "execution_count": null,
   "metadata": {},
   "outputs": [],
   "source": []
  },
  {
   "cell_type": "markdown",
   "metadata": {},
   "source": [
    "<a name=\"section-taskC\"></a><h2 style=\"color:rgb(0,120,170)\">Task C: Classification with sent2vec Document Embeddings (2 extra point)</h2>"
   ]
  },
  {
   "cell_type": "markdown",
   "metadata": {},
   "source": [
    "<div style=\"background-color:rgb(224, 243, 255)\">\n",
    "\n",
    "Sent2vec [1] suggests another unsupervised approach to creating document embeddings from the underlying word embeddings. First, using the provided code in the paper, train a sendtvec model on the training set to create document embeddings. Then, repeat Task B while using the document embeddings provided by sent2vec. Similar to Task 2, conduct the classification experiments and report evaluation results.\n",
    "\n",
    "[1] M. Pagliardini, P. Gupta, and M. Jaggi. Unsupervised Learning of Sentence Embeddings using Compositional n-Gram Features. In Proceedings of the conference of the North American Chapter of the Association for Computational Linguistics (NAACL), 2018.\n",
    "\n",
    "</div>"
   ]
  },
  {
   "cell_type": "code",
   "execution_count": null,
   "metadata": {},
   "outputs": [],
   "source": []
  },
  {
   "cell_type": "code",
   "execution_count": null,
   "metadata": {},
   "outputs": [],
   "source": []
  }
 ],
 "metadata": {
  "kernelspec": {
   "display_name": "Python 3 (ipykernel)",
   "language": "python",
   "name": "python3"
  },
  "language_info": {
   "codemirror_mode": {
    "name": "ipython",
    "version": 3
   },
   "file_extension": ".py",
   "mimetype": "text/x-python",
   "name": "python",
   "nbconvert_exporter": "python",
   "pygments_lexer": "ipython3",
   "version": "3.9.7"
  }
 },
 "nbformat": 4,
 "nbformat_minor": 4
}
