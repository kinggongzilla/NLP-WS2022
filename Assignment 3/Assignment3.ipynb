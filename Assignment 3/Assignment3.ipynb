{
 "cells": [
  {
   "attachments": {},
   "cell_type": "markdown",
   "metadata": {},
   "source": [
    "Please fill out the information of your group!\n",
    "\n",
    "| <p style=\"text-align: center;\">First Name</p>  | <p style=\"text-align: center;\">Family Name</p> | Matr.-No. |\n",
    "| ---------------------------------------------- | ---------------------------------------------- | -------- |\n",
    "| <p style=\"text-align: left\">*Florian*</p>| <p style=\"text-align: left\">*Haslauer*</p> | *k12008697* |\n",
    "| <p style=\"text-align: left\">*David*</p>| <p style=\"text-align: left\">*Hauser*</p> | *k01552420* |\n"
   ]
  },
  {
   "cell_type": "markdown",
   "metadata": {},
   "source": [
    "<h2 style=\"text-align: center\">344.075 KV: Natural Language Processing (WS2022/23)</h2>\n",
    "<h1 style=\"color:rgb(0,120,170)\">Assignment 3</h1>\n",
    "<h2 style=\"color:rgb(0,120,170)\">Document Classification with PyTorch and BERT</h2>"
   ]
  },
  {
   "attachments": {},
   "cell_type": "markdown",
   "metadata": {},
   "source": [
    "<div>\n",
    "<b>Terms of Use</b><br>\n",
    "This  material is prepared for educational purposes at the Johannes Kepler University Linz (JKU), and is exclusively provided to the registered students of the mentioned course at JKU. It is strictly forbidden to distribute the current file, the contents of the assignment, and its solution. The use or reproduction of this manuscript is only allowed for educational purposes in non-profit organizations, while in this case, the explicit prior acceptance of the author(s) is required.\n",
    "\n",
    "**Author:** Navid Rekab-saz<br>\n",
    "**Email:** navid.rekabsaz@jku.at<br>\n",
    "\n",
    "</div>"
   ]
  },
  {
   "cell_type": "markdown",
   "metadata": {},
   "source": [
    "<h2>Table of contents</h2>\n",
    "<ol>\n",
    "    <a href=\"#section-general-guidelines\"><li style=\"font-size:large;font-weight:bold\">General Guidelines</li></a>\n",
    "    <a href=\"#section-tensorboard\"><li style=\"font-size:large;font-weight:bold\">Bonus Task: Logging and Publishing Experiment Results (2 extra point)</li></a>\n",
    "    <a href=\"#section-taskA\"><li style=\"font-size:large;font-weight:bold\">Task A: Document Classification with PyTorch (25 points)</li></a>\n",
    "    <a href=\"#section-taskB\"><li style=\"font-size:large;font-weight:bold\">Task B: Document Classification with BERT (15 points)</li></a>\n",
    "    \n",
    "    \n",
    "</ol>"
   ]
  },
  {
   "cell_type": "markdown",
   "metadata": {},
   "source": [
    "<a name=\"section-general-guidelines\"></a><h2 style=\"color:rgb(0,120,170)\">General Guidelines</h2>"
   ]
  },
  {
   "attachments": {},
   "cell_type": "markdown",
   "metadata": {},
   "source": [
    "<div>\n",
    "\n",
    "### Assignment objective\n",
    "This assignment aims to provide the necessary practices for learning the principles of deep learning programing in NLP using PyTorch. To this end, Task A provides the space for becoming fully familiar with PyTorch programming by implementing a \"simple\" document (sentence) classification model with PyTorch, and Task B extends this classifier with a BERT model. As the assignment requires working with PyTorch and Huggingface Transformers, please familiarize yourself with these libraries using any possible available teaching resources in particular the libraries' documentations. The assignment has in total **40 points**, and also offers **2 extra points** which can cover any missing point.\n",
    "\n",
    "This Notebook encompasses all aspects of the assignment, namely the descriptions of tasks as well as your solutions and reports. Feel free to add any required cell for solutions. The cells can contain code, reports, charts, tables, or any other material, required for the assignment. Feel free to provide the solutions in an interactive and visual way! \n",
    "\n",
    "Please discuss any unclear point in the assignment in the provided forum in MOODLE. It is also encouraged to provide answers to your peer's questions. However when submitting a post, keep in mind to avoid providing solutions. Please let the tutor(s) know shall you find any error or unclarity in the assignment.\n",
    "</div>"
   ]
  },
  {
   "attachments": {},
   "cell_type": "markdown",
   "metadata": {},
   "source": [
    "<div>\n",
    "\n",
    "### Libraries & Dataset\n",
    "\n",
    "The assignment should be implemented with recent versions of `Python`, `PyTorch` and, `transformers`. Any standard Python library can be used, so far that the library is free and can be simply installed using `pip` or `conda`. Examples of potentially useful libraries are `scikit-learn`, `numpy`, `scipy`, `gensim`, `nltk`, `spaCy`, and `AllenNLP`. Use the latest stable version of each library.\n",
    "\n",
    "To conduct the experiments, we use a subset of the `HumSet` dataset [1] (https://blog.thedeep.io/humset/). `HumSet` is created by the DEEP (https://www.thedeep.io) project – an open source platform which aims to facilitate processing of textual data for international humanitarian response organizations. The platform enables the classification of text excerpts, extracted from news and reports into a set of domain specific classes. The provided dataset contains the classes (labels) referring to the humanitarian sectors like agriculture, health, and protection. The dataset contains an overall number of 17,301 data points. \n",
    "\n",
    "Download the dataset from [this link](https://drive.jku.at/filr/public-link/file-download/0cce88f083887a0401841aee8fab3d36/44093/-2905493136371866025/nlp2022_23_data.zip).\n",
    "\n",
    "the provided zip file consists of the following files:\n",
    "- `thedeep.subset.train.txt`: Train set in csv format with three fields: sentence_id, text, and label.\n",
    "- `thedeep.subset.validation.txt`: Validation set in csv format with three fields: sentence_id, text, and label.\n",
    "- `thedeep.subset.test.txt`: Test set in csv format with three fields: sentence_id, text, and label.\n",
    "- `thedeep.subset.label.txt`: Captions of the labels.\n",
    "- `thedeep.ToU.txt`: Terms of use of the dataset.\n",
    "\n",
    "[1] HumSet: Dataset of Multilingual Information Extraction and Classification for Humanitarian Crises Response\n",
    "*Selim Fekih, Nicolo' Tamagnone, Benjamin Minixhofer, Ranjan Shrestha, Ximena Contla, Ewan Oglethorpe and Navid Rekabsaz.* \n",
    "In Findings of the 2022 Conference on Empirical Methods in Natural Language Processing (Findings of EMNLP), December 2022.\n",
    "\n",
    "</div>"
   ]
  },
  {
   "attachments": {},
   "cell_type": "markdown",
   "metadata": {},
   "source": [
    "<div>\n",
    "\n",
    "### Submission\n",
    "\n",
    "Each group should submit the following two files:\n",
    "\n",
    "- One Jupyter Notebook file (`.ipynb`), containing all the code, results, visualizations, etc. **In the submitted Notebook, all the results and visualizations should already be present, and can be observed simply by loading the Notebook in a browser.** The Notebook must be self-contained, meaning that (if necessary) one can run all the cells from top to bottom without any error. Do not forget to put in your names and student numbers in the first cell of the Notebook. \n",
    "- The HTML file (`.html`) achieved from exporting the Jupyter Notebook to HTML (Download As HTML).\n",
    "\n",
    "You do not need to include the data files in the submission.\n",
    "\n",
    "\n",
    "</div>"
   ]
  },
  {
   "cell_type": "markdown",
   "metadata": {},
   "source": [
    "<a name=\"section-tensorboard\"></a><h2 style=\"color:rgb(0,120,170)\">Bonus Task: Logging and Publishing Experiment Results (2 extra point)</h2>"
   ]
  },
  {
   "attachments": {},
   "cell_type": "markdown",
   "metadata": {},
   "source": [
    "<div>\n",
    "\n",
    "In all experiments of this assignment, use any experiment monitoring tool like [`TensorBoard`](https://www.tensorflow.org/tensorboard), [`wandb`](https://wandb.ai) to log and store all useful information about the training and evaluation of the models. Feel free to log any important aspect in particular the changes in evaluation results on validation, in training loss, and in learning rate.\n",
    "\n",
    "After finalizing all experiments and cleaning any unnecessary experiment, **provide the URL to the results monitoring page in the cell below**.\n",
    "\n",
    "For instance if using [`TensorBoard.dev`](https://tensorboard.dev), you can run the following command in the folder of log files: `tensorboard dev upload --name my_exp --logdir path/to/output_dir`, and take the provided URL to the TensorBoard's console.\n",
    "\n",
    "</div>"
   ]
  },
  {
   "cell_type": "markdown",
   "metadata": {},
   "source": [
    "**URL :** *EDIT!*"
   ]
  },
  {
   "cell_type": "markdown",
   "metadata": {},
   "source": [
    "<a name=\"section-taskA\"></a><h2 style=\"color:rgb(0,120,170)\">Task A: Document Classification with PyTorch (25 points)</h2>"
   ]
  },
  {
   "attachments": {},
   "cell_type": "markdown",
   "metadata": {},
   "source": [
    "<div>\n",
    "\n",
    "The aim of this task is identical to the one of Assignment 2 - Task B, namely to design a document classification model that exploits pre-trained word embeddings. It is of course allowed to use the preprocessed text, the dictionary, or any other relevant code or processings, done in the previous assignments.\n",
    "\n",
    "In this task, you implement a document classification model using PyTorch, which given a document/sentence (consisting of a set of words) predicts the corresponding class. Before getting started with coding, have a look at the optional <a href=\"#section-tensorboard\">Task C</a>, as you may want to already include `Tensorboard` in the code. The implementation of the classifier should cover the points below.\n",
    "\n",
    "**Preprocessing and dictionary (1 point):** Following previous assignments, load the train, validation, and test datasets, apply necessary preprocessing steps, and create a dictionary of words. \n",
    "\n",
    "**Data batching (4 points):** Using the dictionary, create batches for any given dataset (train/validation/test). Each batch is a two-dimensional matrix of *batch-size* to *max-document-length*, containing the IDs of the words in the corresponding documents. *Batch-size* and *max-document-length* are two hyper-parameters and can be set to any appropriate values (*Batch-size* must be higher than 1 and *max-document-length* at least 50 words). If a document has more than *max-document-length* words, only the first *max-document-length* words should be kept.\n",
    "\n",
    "**Word embedding lookup (2 point):** Using `torch.nn.Embedding`, create a lookup for the embeddings of all the words in the dictionary. The lookup is in fact a matrix, which maps the ID of each word to the corresponding word vector. Similar to Assignment 2, use the pre-trained vectors of a word embedding model (like word2vec or GloVe) to initialize the word embeddings of the lookup. Keep in mind that the embeddings of the words in the lookup should be matched with the correct vector in the pretrained word embedding. If the vector of a word in the lookup does not exist in the pretrained word embeddings, the corresponding vector should be initialized randomly. \n",
    "\n",
    "**Model definition (3 points):** Define the class `ClassificationAverageModel` as a PyTorch model. In the initialization procedure, the model receives the word embedding lookup, and includes it in the model as model's parameters. These embeddings parameters should be trainable, meaning that the word vectors get updated during model training. Feel free to add any other parameters to the model, which might be necessary for accomplishing the functionalities explained in the following.\n",
    "\n",
    "**Forward function (5 points):** The forward function of the model receives a batch of data, and first fetches the corresponding embeddings of the word IDs in the batch using the lookup. Similar to Assignment 2, the embedding of a document is created by calculating the *element-wise mean* of the embeddings of the document's words. Formally, given the document $d$, consisting of words $\\left[ v_1, v_2, ..., v_{|d|} \\right]$, the document representation $\\mathbf{e}_d$ is defined as:\n",
    "\n",
    "<center><div>$\\mathbf{e}_d = \\frac{1}{|d|}\\sum_{i=1}^{|d|}{\\mathbf{e}_{v_i}}$</div></center>\n",
    "\n",
    "where $\\mathbf{e}_{v}$ is the vector of the word $v$, and $|d|$ is the length of the document. An important point in the implementation of this formula is that the documents in the batch might have different lengths and therefore each document should be divided by its corresponding $|d|$. Finally, this document embedding is utilized to predict the probability of the output classes, done by applying a linear transformation from the embeddings size to the number of classes, followed by Softmax. The linear transformation also belongs to the model's parameters and will be learned in training.\n",
    "\n",
    "**Loss Function and optimization (2 point):** The loss between the predicted and the actual classes is calculated using Negative Log Likelihood or Cross Entropy. Update the model's parameters using any appropriate optimization mechanism such as Adam.\n",
    "\n",
    "**Early Stopping (2 points):** After each epoch, evaluate the model on the *validation set* using accuracy. If the evaluation result (accuracy) improves, save the model as the best performing one so far. If the results are not improving after a certain number of evaluation rounds (set as another hyper-parameter) or if training reaches a certain number of epochs, terminate the training procedure. \n",
    "\n",
    "**Test Set Evaluation (1 point):** After finishing the training, load the (already stored) best performing model, and use it for class prediction on the test set.\n",
    "\n",
    "**Reporting (1 point):** During loading and processing the collection, provide sufficient information and examples about the data and the applied processing steps. Report the results of the best performing model on the validation and test set in a table.\n",
    "\n",
    "**Overall functionality of the training procedure (4 point).**\n",
    "\n",
    "</div>"
   ]
  },
  {
   "cell_type": "code",
   "execution_count": 2,
   "metadata": {},
   "outputs": [
    {
     "name": "stderr",
     "output_type": "stream",
     "text": [
      "[nltk_data] Downloading package punkt to\n",
      "[nltk_data]     C:\\Users\\hause\\AppData\\Roaming\\nltk_data...\n",
      "[nltk_data]   Package punkt is already up-to-date!\n",
      "[nltk_data] Downloading package wordnet to\n",
      "[nltk_data]     C:\\Users\\hause\\AppData\\Roaming\\nltk_data...\n",
      "[nltk_data]   Package wordnet is already up-to-date!\n",
      "[nltk_data] Downloading package omw-1.4 to\n",
      "[nltk_data]     C:\\Users\\hause\\AppData\\Roaming\\nltk_data...\n",
      "[nltk_data]   Package omw-1.4 is already up-to-date!\n",
      "c:\\Users\\hause\\miniconda3\\lib\\site-packages\\tqdm\\auto.py:22: TqdmWarning: IProgress not found. Please update jupyter and ipywidgets. See https://ipywidgets.readthedocs.io/en/stable/user_install.html\n",
      "  from .autonotebook import tqdm as notebook_tqdm\n"
     ]
    }
   ],
   "source": [
    "import numpy as np\n",
    "import pandas as pd\n",
    "import string\n",
    "import re\n",
    "import nltk\n",
    "from nltk.tokenize import word_tokenize\n",
    "from nltk.stem import WordNetLemmatizer\n",
    "nltk.download('punkt')\n",
    "nltk.download('wordnet')\n",
    "nltk.download('omw-1.4')\n",
    "from tqdm import tqdm\n",
    "import torch\n",
    "import torch.nn as nn"
   ]
  },
  {
   "cell_type": "markdown",
   "metadata": {},
   "source": [
    "## Preprocessing and dictionary"
   ]
  },
  {
   "cell_type": "markdown",
   "metadata": {},
   "source": [
    "#### Load data:"
   ]
  },
  {
   "cell_type": "code",
   "execution_count": 27,
   "metadata": {},
   "outputs": [],
   "source": [
    "train = pd.read_csv('nlp2022_23_data/thedeep.subset.train.txt', sep=\",\", header=None)\n",
    "train.columns = [\"sentence_id\", \"text\", \"label\"]\n",
    "test = pd.read_csv('nlp2022_23_data/thedeep.subset.test.txt', sep=\",\", header=None)\n",
    "test.columns = [\"sentence_id\", \"text\", \"label\"]\n",
    "val = pd.read_csv('nlp2022_23_data/thedeep.subset.validation.txt', sep=\",\", header=None)\n",
    "val.columns = [\"sentence_id\", \"text\", \"label\"]"
   ]
  },
  {
   "cell_type": "markdown",
   "metadata": {},
   "source": [
    "#### Cleaning:\n",
    "remove punctuation and numbers. Additionally set everything to lowercase"
   ]
  },
  {
   "cell_type": "code",
   "execution_count": 11,
   "metadata": {},
   "outputs": [],
   "source": [
    "def clean_text(text):\n",
    "    return re.sub('[^a-zA-Z]', ' ', text).lower()\n",
    "train['text'] = train['text'].apply(clean_text)\n",
    "test['text'] = test['text'].apply(clean_text)\n",
    "val['text'] = val['text'].apply(clean_text)"
   ]
  },
  {
   "cell_type": "markdown",
   "metadata": {},
   "source": [
    "#### Tokenization:\n",
    "Tokenize using nltk and lemmatizing"
   ]
  },
  {
   "cell_type": "code",
   "execution_count": 12,
   "metadata": {},
   "outputs": [],
   "source": [
    "train['text'] = train['text'].apply(word_tokenize)\n",
    "test['text'] = test['text'].apply(word_tokenize)\n",
    "val['text'] = val['text'].apply(word_tokenize)\n",
    "lemma = WordNetLemmatizer()\n",
    "def lemmatize(token):\n",
    "    return [lemma.lemmatize(word=w,pos='v') for w in token]\n",
    "train['text'] = train['text'].apply(lemmatize)\n",
    "test['text'] = test['text'].apply(lemmatize)\n",
    "val['text'] = val['text'].apply(lemmatize)"
   ]
  },
  {
   "cell_type": "markdown",
   "metadata": {},
   "source": [
    "#### create dictionary:"
   ]
  },
  {
   "cell_type": "code",
   "execution_count": 13,
   "metadata": {},
   "outputs": [
    {
     "name": "stderr",
     "output_type": "stream",
     "text": [
      "100%|██████████| 12110/12110 [00:00<00:00, 25056.49it/s]\n",
      "100%|██████████| 22620/22620 [00:00<00:00, 1257857.46it/s]\n"
     ]
    }
   ],
   "source": [
    "token_dict = {}\n",
    "for tokens in tqdm(train['text']):\n",
    "    for token in tokens:\n",
    "        if token not in token_dict.keys():\n",
    "            token_dict[token] = 1\n",
    "        else:\n",
    "            token_dict[token] += 1\n",
    "# cut the dictionary\n",
    "threshold = 10\n",
    "oov = []\n",
    "for token in tqdm(token_dict):\n",
    "    if token_dict[token] < threshold:\n",
    "        oov.append(token)\n",
    "for token in oov:\n",
    "    del token_dict[token]\n",
    "vocab = list(token_dict.keys())"
   ]
  },
  {
   "cell_type": "code",
   "execution_count": 14,
   "metadata": {},
   "outputs": [
    {
     "name": "stderr",
     "output_type": "stream",
     "text": [
      "100%|██████████| 12110/12110 [00:18<00:00, 667.26it/s]\n",
      "100%|██████████| 2595/2595 [00:03<00:00, 727.94it/s]\n",
      "100%|██████████| 2596/2596 [00:04<00:00, 627.83it/s]\n"
     ]
    }
   ],
   "source": [
    "for tokens in tqdm(train['text']):\n",
    "    oov_words = []\n",
    "    for i in range(len(tokens)):\n",
    "        if tokens[i] not in vocab:\n",
    "            oov_words.append(i)\n",
    "    for i in sorted(oov_words, reverse=True):\n",
    "        del tokens[i]\n",
    "\n",
    "for tokens in tqdm(test['text']):\n",
    "    oov_words = []\n",
    "    for i in range(len(tokens)):\n",
    "        if tokens[i] not in vocab:\n",
    "            oov_words.append(i)\n",
    "    for i in sorted(oov_words, reverse=True):\n",
    "        del tokens[i]\n",
    "\n",
    "for tokens in tqdm(val['text']):\n",
    "    oov_words = []\n",
    "    for i in range(len(tokens)):\n",
    "        if tokens[i] not in vocab:\n",
    "            oov_words.append(i)\n",
    "    for i in sorted(oov_words, reverse=True):\n",
    "        del tokens[i]"
   ]
  },
  {
   "cell_type": "markdown",
   "metadata": {},
   "source": [
    "## Data batching:"
   ]
  },
  {
   "cell_type": "code",
   "execution_count": 15,
   "metadata": {},
   "outputs": [],
   "source": [
    "batch_size = 16\n",
    "max_doc_length = 70\n",
    "y_train = []\n",
    "y_val = []\n",
    "y_test = []\n",
    "train_batches = []\n",
    "test_batches = []\n",
    "val_batches = []\n",
    "def prepare_data(data):\n",
    "    batch = np.zeros((len(data['text']), max_doc_length))\n",
    "    for doc, i in zip(data['text'], range(len(data['text']))):\n",
    "        while len(doc) < max_doc_length:\n",
    "            for j in range(len(doc)):\n",
    "                doc.append(doc[j])\n",
    "        for j in range(max_doc_length):\n",
    "            batch[i][j] = vocab.index(doc[j])\n",
    "    y = data['label'].to_list()\n",
    "    return batch, y\n",
    "\n",
    "def iterate_batches(data, batch_size: int):\n",
    "    for i in range(0, len(data), batch_size):\n",
    "        batch = data[i:i + batch_size]\n",
    "        yield prepare_data(batch)\n",
    "\n",
    "for data, y in iterate_batches(train, batch_size):\n",
    "    y_train.append(y)\n",
    "    train_batches.append(data)\n",
    "\n",
    "for data, y in iterate_batches(test, batch_size):\n",
    "    y_test.append(y)\n",
    "    test_batches.append(data)\n",
    "\n",
    "for data, y in iterate_batches(val, batch_size):\n",
    "    y_val.append(y)\n",
    "    val_batches.append(data)\n"
   ]
  },
  {
   "cell_type": "markdown",
   "metadata": {},
   "source": [
    "## Word embedding lookup"
   ]
  },
  {
   "cell_type": "markdown",
   "metadata": {},
   "source": [
    "Load the Glove Word Embedding:"
   ]
  },
  {
   "cell_type": "code",
   "execution_count": 8,
   "metadata": {},
   "outputs": [],
   "source": [
    "embeddings_dict = {}\n",
    "with open(\"glove.6B/glove.6B.50d.txt\", 'r') as f:\n",
    "    for line in f:\n",
    "        values = line.split()\n",
    "        word = values[0]\n",
    "        vector = np.asarray(values[1:], \"float32\")\n",
    "        embeddings_dict[word] = vector"
   ]
  },
  {
   "cell_type": "markdown",
   "metadata": {},
   "source": [
    "create the lookout:"
   ]
  },
  {
   "cell_type": "code",
   "execution_count": 9,
   "metadata": {},
   "outputs": [],
   "source": [
    "emb_size = embeddings_dict['the'].shape[0]\n",
    "lookout = nn.Embedding(len(vocab), emb_size)\n",
    "weights_matrix = np.zeros((len(vocab), emb_size))\n",
    "for i, word in enumerate(vocab):\n",
    "    try: \n",
    "        weights_matrix[i] = embeddings_dict[word]\n",
    "    except KeyError:\n",
    "        weights_matrix[i] = np.random.normal(scale=0.6, size=(emb_size, ))\n",
    "\n",
    "weights_matrix = torch.tensor(weights_matrix)"
   ]
  },
  {
   "cell_type": "code",
   "execution_count": 10,
   "metadata": {},
   "outputs": [
    {
     "data": {
      "text/plain": [
       "<All keys matched successfully>"
      ]
     },
     "execution_count": 10,
     "metadata": {},
     "output_type": "execute_result"
    }
   ],
   "source": [
    "lookout.load_state_dict({'weight': weights_matrix})"
   ]
  },
  {
   "cell_type": "markdown",
   "metadata": {},
   "source": [
    "## Model definition & Forward function"
   ]
  },
  {
   "cell_type": "code",
   "execution_count": 11,
   "metadata": {},
   "outputs": [],
   "source": [
    "class ClassificationAverageModel(nn.Module):\n",
    "    def __init__(self, lookout):\n",
    "        super(ClassificationAverageModel,self).__init__()\n",
    "        self.lookout = lookout\n",
    "        self.fc1 = nn.Linear((emb_size), (12))\n",
    "    \n",
    "    def forward(self, data):\n",
    "        pred = torch.empty((len(data),12))\n",
    "        for i in range(len(data)):\n",
    "            embedding_sum = torch.sum(lookout(torch.tensor(data[i], dtype=int)), 0) / len(data[i])\n",
    "            pred[i, :] = torch.sigmoid(self.fc1(embedding_sum))\n",
    "        return pred       "
   ]
  },
  {
   "cell_type": "markdown",
   "metadata": {},
   "source": [
    "## Loss function, optimization and Early Stopping"
   ]
  },
  {
   "cell_type": "markdown",
   "metadata": {},
   "source": [
    "define model, Adam optimizer and the Cross Entropy Loss:"
   ]
  },
  {
   "cell_type": "code",
   "execution_count": 12,
   "metadata": {},
   "outputs": [],
   "source": [
    "model = ClassificationAverageModel(lookout=lookout)\n",
    "optimizer = torch.optim.Adam(model.parameters())\n",
    "loss_fn = nn.CrossEntropyLoss()      "
   ]
  },
  {
   "cell_type": "markdown",
   "metadata": {},
   "source": [
    "Run for max 50 epochs with early stopping:"
   ]
  },
  {
   "cell_type": "code",
   "execution_count": 13,
   "metadata": {},
   "outputs": [
    {
     "name": "stdout",
     "output_type": "stream",
     "text": [
      "Epoch 0:\n",
      "\n",
      "Accuracy: 33.9%, Avg loss: 2.143237\n",
      "accuracy increased --> saving model\n",
      "\n",
      "Epoch 1:\n",
      "\n",
      "Accuracy: 63.9%, Avg loss: 2.004163\n",
      "accuracy increased --> saving model\n",
      "\n",
      "Epoch 2:\n",
      "\n",
      "Accuracy: 70.0%, Avg loss: 1.935856\n",
      "accuracy increased --> saving model\n",
      "\n",
      "Epoch 3:\n",
      "\n",
      "Accuracy: 72.3%, Avg loss: 1.903359\n",
      "accuracy increased --> saving model\n",
      "\n",
      "Epoch 4:\n",
      "\n",
      "Accuracy: 74.0%, Avg loss: 1.882589\n",
      "accuracy increased --> saving model\n",
      "\n",
      "Epoch 5:\n",
      "\n",
      "Accuracy: 74.9%, Avg loss: 1.867168\n",
      "accuracy increased --> saving model\n",
      "\n",
      "Epoch 6:\n",
      "\n",
      "Accuracy: 75.8%, Avg loss: 1.855281\n",
      "accuracy increased --> saving model\n",
      "\n",
      "Epoch 7:\n",
      "\n",
      "Accuracy: 76.7%, Avg loss: 1.846117\n",
      "accuracy increased --> saving model\n",
      "\n",
      "Epoch 8:\n",
      "\n",
      "Accuracy: 77.0%, Avg loss: 1.839050\n",
      "accuracy increased --> saving model\n",
      "\n",
      "Epoch 9:\n",
      "\n",
      "Accuracy: 77.5%, Avg loss: 1.833296\n",
      "accuracy increased --> saving model\n",
      "\n",
      "Epoch 10:\n",
      "\n",
      "Accuracy: 77.8%, Avg loss: 1.827969\n",
      "accuracy increased --> saving model\n",
      "\n",
      "Epoch 11:\n",
      "\n",
      "Accuracy: 78.3%, Avg loss: 1.823148\n",
      "accuracy increased --> saving model\n",
      "\n",
      "Epoch 12:\n",
      "\n",
      "Accuracy: 78.6%, Avg loss: 1.818786\n",
      "accuracy increased --> saving model\n",
      "\n",
      "Epoch 13:\n",
      "\n",
      "Accuracy: 79.0%, Avg loss: 1.815118\n",
      "accuracy increased --> saving model\n",
      "\n",
      "Epoch 14:\n",
      "\n",
      "Accuracy: 79.2%, Avg loss: 1.812276\n",
      "accuracy increased --> saving model\n",
      "\n",
      "Epoch 15:\n",
      "\n",
      "Accuracy: 79.2%, Avg loss: 1.810167\n",
      "accuracy increased --> saving model\n",
      "\n",
      "Epoch 16:\n",
      "\n",
      "Accuracy: 79.4%, Avg loss: 1.808627\n",
      "accuracy increased --> saving model\n",
      "\n",
      "Epoch 17:\n",
      "\n",
      "Accuracy: 79.7%, Avg loss: 1.807543\n",
      "accuracy increased --> saving model\n",
      "\n",
      "Epoch 18:\n",
      "\n",
      "Accuracy: 79.6%, Avg loss: 1.806848\n",
      "accuracy did not increase, tolerance = 2\n",
      "\n",
      "Epoch 19:\n",
      "\n",
      "Accuracy: 79.7%, Avg loss: 1.806480\n",
      "accuracy did not increase, tolerance = 1\n",
      "\n",
      "Epoch 20:\n",
      "\n",
      "Accuracy: 79.6%, Avg loss: 1.806370\n",
      "accuracy did not increase, tolerance = 0\n",
      "\n",
      "Stopping the learning process\n"
     ]
    }
   ],
   "source": [
    "num_epochs = 50\n",
    "best_acc = 0\n",
    "tolerance = 3\n",
    "for epoch in range(num_epochs):\n",
    "    if tolerance <= 0:\n",
    "        print('Stopping the learning process')\n",
    "        break\n",
    "    print('Epoch {}:\\n'.format(epoch))\n",
    "    for X, y in zip(train_batches, y_train):\n",
    "        pred = model(X)\n",
    "        loss = loss_fn(pred, torch.tensor(y))\n",
    "        \n",
    "        optimizer.zero_grad()\n",
    "        loss.backward()\n",
    "        optimizer.step()\n",
    "    val_loss, accuracy = 0, 0\n",
    "    with torch.no_grad():\n",
    "        for X, y in zip(val_batches, y_val):\n",
    "            pred = model(X)\n",
    "            val_loss += loss_fn(pred, torch.tensor(y)).item()\n",
    "            accuracy += (pred.argmax(1) == torch.tensor(y)).type(torch.float).sum().item()\n",
    "\n",
    "    val_loss /= len(val_batches)\n",
    "    accuracy /= len(val['text'])\n",
    "    print(f\"Accuracy: {(100*accuracy):>0.1f}%, Avg loss: {val_loss:>8f}\")\n",
    "    if accuracy > best_acc:\n",
    "        best_acc = accuracy\n",
    "        print('accuracy increased --> saving model\\n')\n",
    "        with open('best_model.pt', 'wb') as model_file:\n",
    "            torch.save(model.state_dict(), model_file)\n",
    "        tolerance = 3\n",
    "    else:\n",
    "        tolerance -= 1\n",
    "        print('accuracy did not increase, tolerance = {}\\n'.format(tolerance))\n"
   ]
  },
  {
   "cell_type": "markdown",
   "metadata": {},
   "source": [
    "## Test Set Evaluation"
   ]
  },
  {
   "cell_type": "code",
   "execution_count": 14,
   "metadata": {},
   "outputs": [
    {
     "name": "stdout",
     "output_type": "stream",
     "text": [
      "Test set Accuracy: 79.0%, Avg loss: 1.812814 \n",
      "\n"
     ]
    }
   ],
   "source": [
    "model = ClassificationAverageModel(lookout=lookout)\n",
    "model.load_state_dict(torch.load('best_model.pt'))\n",
    "model.eval()\n",
    "\n",
    "test_loss, accuracy = 0, 0\n",
    "with torch.no_grad():\n",
    "    for X, y in zip(test_batches, y_test):\n",
    "        pred = model(X)\n",
    "        test_loss += loss_fn(pred, torch.tensor(y)).item()\n",
    "        accuracy += (pred.argmax(1) == torch.tensor(y)).type(torch.float).sum().item()\n",
    "        \n",
    "test_loss /= len(test_batches)\n",
    "accuracy /= len(test['text'])\n",
    "print(f\"Test set Accuracy: {(100*accuracy):>0.1f}%, Avg loss: {test_loss:>8f} \\n\")"
   ]
  },
  {
   "cell_type": "markdown",
   "metadata": {},
   "source": [
    "<a name=\"section-taskB\"></a><h2 style=\"color:rgb(0,120,170)\">Task B: Document Classification with BERT (15 points)</h2>"
   ]
  },
  {
   "attachments": {},
   "cell_type": "markdown",
   "metadata": {},
   "source": [
    "<div>\n",
    "    \n",
    "This task aims to conduct the same document classification as Task A, but now by utilizing a pre-trained BERT model. Feel free to reuse any code from the previous task. The implementation of the classifier should cover the points below.\n",
    "\n",
    "**Loading BERT model (2 points):** Use the `transformers` library from `huggingface` to load a (small) pre-trained BERT model. Select a BERT model according to your available resources. The available models can be found [here](https://huggingface.co/models) and [here](https://github.com/google-research/bert).\n",
    "\n",
    "**BERT tokenization (3 points):** For training BERT models, we do not need to create a dictionary anymore, as a BERT model already contains an internal subword dictionary. Following the instruction in `transformers`'s documentation, tokenize the data using the BERT model.  \n",
    "\n",
    "**Model definition and forward function (5 points):** Define the class **`ClassificationBERTModel`** as a PyTorch model. In the initialization procedure, the model receives the loaded BERT model and stores it as the model's parameter. The parameters of the BERT model should be trainable. The forward function of the model receives a batch of data, passes this batch to BERT, and achieves the corresponding document embeddings from the output of BERT. Similar to the previous task, the document embeddings are used for classification by linearly transforming document embeddings to the vectors with the number of classes, followed by applying Softmax.\n",
    "\n",
    "**Training and overall functionality (3 points):** Train the model in a similar fashion to the previous task, namely with the proper loss function, optimization, and early stoping.\n",
    "\n",
    "**Test Set Evaluation (1 point):** After finishing the training, load the (already stored) best performing model, and use it for class prediction on the test set.\n",
    "\n",
    "**Reporting (1 point):** Report the results of the best performing model on the validation and test set in a table.\n",
    "\n",
    "</div>"
   ]
  },
  {
   "cell_type": "code",
   "execution_count": 159,
   "metadata": {},
   "outputs": [],
   "source": [
    "#load BERT model\n",
    "from transformers import BertTokenizer, BertModel\n",
    "from torch.utils.data import DataLoader"
   ]
  },
  {
   "cell_type": "code",
   "execution_count": 160,
   "metadata": {},
   "outputs": [],
   "source": [
    "#load data\n",
    "train = pd.read_csv('nlp2022_23_data/thedeep.subset.train.txt', sep=\",\", header=None)\n",
    "train.columns = [\"sentence_id\", \"text\", \"label\"]\n",
    "test = pd.read_csv('nlp2022_23_data/thedeep.subset.test.txt', sep=\",\", header=None)\n",
    "test.columns = [\"sentence_id\", \"text\", \"label\"]\n",
    "val = pd.read_csv('nlp2022_23_data/thedeep.subset.validation.txt', sep=\",\", header=None)\n",
    "val.columns = [\"sentence_id\", \"text\", \"label\"]"
   ]
  },
  {
   "attachments": {},
   "cell_type": "markdown",
   "metadata": {},
   "source": [
    "### Load BERT model and tokenize data in Dataloader"
   ]
  },
  {
   "cell_type": "code",
   "execution_count": 161,
   "metadata": {},
   "outputs": [],
   "source": [
    "device = torch.device(\"cuda:0\" if torch.cuda.is_available() else \"cpu\")\n",
    "\n",
    "batch_size = 16\n",
    "max_doc_length = 70\n",
    "\n",
    "#define pytorch dataset\n",
    "class Dataset(torch.utils.data.Dataset):\n",
    "    def __init__(self, data):\n",
    "        self.data = data\n",
    "        self.tokenizer = BertTokenizer.from_pretrained('bert-base-uncased')\n",
    "    def __len__(self):\n",
    "        return len(self.data)\n",
    "    def __getitem__(self, idx):\n",
    "        text = self.data.iloc[idx, 1]\n",
    "        label = self.data.iloc[idx, 2]\n",
    "        encoding = self.tokenizer(text, truncation=True, padding='max_length', max_length=max_doc_length)\n",
    "        return {\n",
    "            'input_ids': torch.tensor(encoding['input_ids']).to(device),\n",
    "            'token_type_ids': torch.tensor(encoding['token_type_ids']),\n",
    "            'attention_mask': torch.tensor(encoding['attention_mask']),\n",
    "            'labels': torch.tensor(label)\n",
    "        }"
   ]
  },
  {
   "cell_type": "code",
   "execution_count": 162,
   "metadata": {},
   "outputs": [
    {
     "name": "stdout",
     "output_type": "stream",
     "text": [
      "Full dataset sizes\n",
      "train length:  12110\n",
      "test length:  2595\n",
      "val length:  2596\n"
     ]
    }
   ],
   "source": [
    "print('Full dataset sizes')\n",
    "print('train length: ', len(train))\n",
    "print('test length: ', len(test))\n",
    "print('val length: ', len(val))"
   ]
  },
  {
   "attachments": {},
   "cell_type": "markdown",
   "metadata": {},
   "source": [
    "### Create DataLoaders"
   ]
  },
  {
   "cell_type": "code",
   "execution_count": 177,
   "metadata": {},
   "outputs": [],
   "source": [
    "num_train_samples = len(train) #100\n",
    "num_test_samples = len(test)#100\n",
    "num_val_samples = len(val)#100\n",
    "\n",
    "#dataloaders\n",
    "train_dataset = Dataset(train[:num_train_samples])\n",
    "test_dataset = Dataset(test[:num_test_samples])\n",
    "val_dataset = Dataset(val[:num_val_samples])\n",
    "\n",
    "train_loader = DataLoader(train_dataset, batch_size=batch_size, shuffle=True)\n",
    "test_loader = DataLoader(test_dataset, batch_size=batch_size, shuffle=True)\n",
    "val_loader = DataLoader(val_dataset, batch_size=batch_size, shuffle=True)"
   ]
  },
  {
   "attachments": {},
   "cell_type": "markdown",
   "metadata": {},
   "source": [
    "### Define Model"
   ]
  },
  {
   "cell_type": "code",
   "execution_count": 178,
   "metadata": {},
   "outputs": [],
   "source": [
    "class ClassificationBERTModel(nn.Module):\n",
    "    def __init__(self):\n",
    "        super(ClassificationBERTModel,self).__init__()        \n",
    "        self.bert = BertModel.from_pretrained('bert-base-uncased')\n",
    "        self.fc1 = nn.Linear((768), (12))\n",
    "        self.relu = nn.ReLU()\n",
    "        self.softmax = nn.Softmax(dim=1)\n",
    "    \n",
    "    def forward(self, input_ids, attention_mask, token_type_ids):\n",
    "        output = self.bert(input_ids=input_ids, attention_mask=attention_mask, token_type_ids=token_type_ids)\n",
    "        output = self.fc1(output[1])\n",
    "        output = self.relu(output)\n",
    "        output = self.softmax(output)\n",
    "        return output"
   ]
  },
  {
   "cell_type": "code",
   "execution_count": 180,
   "metadata": {},
   "outputs": [
    {
     "name": "stderr",
     "output_type": "stream",
     "text": [
      "Some weights of the model checkpoint at bert-base-uncased were not used when initializing BertModel: ['cls.predictions.transform.LayerNorm.bias', 'cls.predictions.transform.dense.bias', 'cls.predictions.transform.dense.weight', 'cls.seq_relationship.weight', 'cls.predictions.decoder.weight', 'cls.predictions.bias', 'cls.predictions.transform.LayerNorm.weight', 'cls.seq_relationship.bias']\n",
      "- This IS expected if you are initializing BertModel from the checkpoint of a model trained on another task or with another architecture (e.g. initializing a BertForSequenceClassification model from a BertForPreTraining model).\n",
      "- This IS NOT expected if you are initializing BertModel from the checkpoint of a model that you expect to be exactly identical (initializing a BertForSequenceClassification model from a BertForSequenceClassification model).\n"
     ]
    },
    {
     "name": "stdout",
     "output_type": "stream",
     "text": [
      "Epoch 0:\n",
      "\n"
     ]
    },
    {
     "name": "stderr",
     "output_type": "stream",
     "text": [
      "100%|██████████| 757/757 [1:23:31<00:00,  6.62s/it]\n"
     ]
    },
    {
     "name": "stdout",
     "output_type": "stream",
     "text": [
      "Validation set:\n",
      "\n"
     ]
    },
    {
     "name": "stderr",
     "output_type": "stream",
     "text": [
      "100%|██████████| 163/163 [06:00<00:00,  2.21s/it]\n"
     ]
    },
    {
     "name": "stdout",
     "output_type": "stream",
     "text": [
      "Validation accuracy: 74.4%, Avg loss: 1.876497\n",
      "accuracy increased --> saving model\n",
      "\n",
      "Epoch 1:\n",
      "\n"
     ]
    },
    {
     "name": "stderr",
     "output_type": "stream",
     "text": [
      "100%|██████████| 757/757 [5:23:51<00:00, 25.67s/it]     \n"
     ]
    },
    {
     "name": "stdout",
     "output_type": "stream",
     "text": [
      "Validation set:\n",
      "\n"
     ]
    },
    {
     "name": "stderr",
     "output_type": "stream",
     "text": [
      "100%|██████████| 163/163 [08:01<00:00,  2.95s/it]\n"
     ]
    },
    {
     "name": "stdout",
     "output_type": "stream",
     "text": [
      "Validation accuracy: 77.4%, Avg loss: 1.845182\n",
      "accuracy increased --> saving model\n",
      "\n",
      "Epoch 2:\n",
      "\n"
     ]
    },
    {
     "name": "stderr",
     "output_type": "stream",
     "text": [
      "100%|██████████| 757/757 [1:51:44<00:00,  8.86s/it]\n"
     ]
    },
    {
     "name": "stdout",
     "output_type": "stream",
     "text": [
      "Validation set:\n",
      "\n"
     ]
    },
    {
     "name": "stderr",
     "output_type": "stream",
     "text": [
      "100%|██████████| 163/163 [07:59<00:00,  2.94s/it]\n"
     ]
    },
    {
     "name": "stdout",
     "output_type": "stream",
     "text": [
      "Validation accuracy: 77.3%, Avg loss: 1.844738\n",
      "accuracy did not increase, tolerance = 2\n",
      "\n",
      "Epoch 3:\n",
      "\n"
     ]
    },
    {
     "name": "stderr",
     "output_type": "stream",
     "text": [
      " 79%|███████▊  | 596/757 [1:27:41<23:41,  8.83s/it]\n"
     ]
    },
    {
     "ename": "RuntimeError",
     "evalue": "[enforce fail at C:\\cb\\pytorch_1000000000000\\work\\c10\\core\\impl\\alloc_cpu.cpp:81] data. DefaultCPUAllocator: not enough memory: you tried to allocate 13762560 bytes.",
     "output_type": "error",
     "traceback": [
      "\u001b[1;31m---------------------------------------------------------------------------\u001b[0m",
      "\u001b[1;31mRuntimeError\u001b[0m                              Traceback (most recent call last)",
      "Cell \u001b[1;32mIn [180], line 23\u001b[0m\n\u001b[0;32m     20\u001b[0m     loss \u001b[39m=\u001b[39m loss_fn(pred, data[\u001b[39m'\u001b[39m\u001b[39mlabels\u001b[39m\u001b[39m'\u001b[39m])\n\u001b[0;32m     22\u001b[0m     optimizer\u001b[39m.\u001b[39mzero_grad()\n\u001b[1;32m---> 23\u001b[0m     loss\u001b[39m.\u001b[39;49mbackward()\n\u001b[0;32m     24\u001b[0m     optimizer\u001b[39m.\u001b[39mstep()\n\u001b[0;32m     25\u001b[0m val_loss, val_accuracy \u001b[39m=\u001b[39m \u001b[39m0\u001b[39m, \u001b[39m0\u001b[39m\n",
      "File \u001b[1;32mc:\\Users\\hause\\miniconda3\\lib\\site-packages\\torch\\_tensor.py:363\u001b[0m, in \u001b[0;36mTensor.backward\u001b[1;34m(self, gradient, retain_graph, create_graph, inputs)\u001b[0m\n\u001b[0;32m    354\u001b[0m \u001b[39mif\u001b[39;00m has_torch_function_unary(\u001b[39mself\u001b[39m):\n\u001b[0;32m    355\u001b[0m     \u001b[39mreturn\u001b[39;00m handle_torch_function(\n\u001b[0;32m    356\u001b[0m         Tensor\u001b[39m.\u001b[39mbackward,\n\u001b[0;32m    357\u001b[0m         (\u001b[39mself\u001b[39m,),\n\u001b[1;32m   (...)\u001b[0m\n\u001b[0;32m    361\u001b[0m         create_graph\u001b[39m=\u001b[39mcreate_graph,\n\u001b[0;32m    362\u001b[0m         inputs\u001b[39m=\u001b[39minputs)\n\u001b[1;32m--> 363\u001b[0m torch\u001b[39m.\u001b[39;49mautograd\u001b[39m.\u001b[39;49mbackward(\u001b[39mself\u001b[39;49m, gradient, retain_graph, create_graph, inputs\u001b[39m=\u001b[39;49minputs)\n",
      "File \u001b[1;32mc:\\Users\\hause\\miniconda3\\lib\\site-packages\\torch\\autograd\\__init__.py:173\u001b[0m, in \u001b[0;36mbackward\u001b[1;34m(tensors, grad_tensors, retain_graph, create_graph, grad_variables, inputs)\u001b[0m\n\u001b[0;32m    168\u001b[0m     retain_graph \u001b[39m=\u001b[39m create_graph\n\u001b[0;32m    170\u001b[0m \u001b[39m# The reason we repeat same the comment below is that\u001b[39;00m\n\u001b[0;32m    171\u001b[0m \u001b[39m# some Python versions print out the first line of a multi-line function\u001b[39;00m\n\u001b[0;32m    172\u001b[0m \u001b[39m# calls in the traceback and some print out the last line\u001b[39;00m\n\u001b[1;32m--> 173\u001b[0m Variable\u001b[39m.\u001b[39;49m_execution_engine\u001b[39m.\u001b[39;49mrun_backward(  \u001b[39m# Calls into the C++ engine to run the backward pass\u001b[39;49;00m\n\u001b[0;32m    174\u001b[0m     tensors, grad_tensors_, retain_graph, create_graph, inputs,\n\u001b[0;32m    175\u001b[0m     allow_unreachable\u001b[39m=\u001b[39;49m\u001b[39mTrue\u001b[39;49;00m, accumulate_grad\u001b[39m=\u001b[39;49m\u001b[39mTrue\u001b[39;49;00m)\n",
      "\u001b[1;31mRuntimeError\u001b[0m: [enforce fail at C:\\cb\\pytorch_1000000000000\\work\\c10\\core\\impl\\alloc_cpu.cpp:81] data. DefaultCPUAllocator: not enough memory: you tried to allocate 13762560 bytes."
     ]
    }
   ],
   "source": [
    "model = ClassificationBERTModel()\n",
    "optimizer = torch.optim.Adam(params =  model.parameters(), lr=1e-5)\n",
    "loss_fn = nn.CrossEntropyLoss()  \n",
    "\n",
    "num_epochs = 4\n",
    "best_val_acc = 0\n",
    "tolerance = 3\n",
    "model.to(device)\n",
    "loss_fn.to(device)\n",
    "model.train()\n",
    "\n",
    "for epoch in range(num_epochs):\n",
    "    if tolerance <= 0:\n",
    "        print('Stopping the learning process')\n",
    "        break\n",
    "    print('Epoch {}:\\n'.format(epoch))\n",
    "    for data in tqdm(train_loader):\n",
    "        data['input_ids'].to(device)\n",
    "        data['attention_mask'].to(device)\n",
    "        data['token_type_ids'].to(device)\n",
    "        data['labels'].to(device)\n",
    "\n",
    "        pred = model(data['input_ids'], data['attention_mask'], data['token_type_ids'])\n",
    "        loss = loss_fn(pred, data['labels'])\n",
    "        optimizer.zero_grad()\n",
    "        loss.backward()\n",
    "        optimizer.step()\n",
    "    val_loss, val_accuracy = 0, 0\n",
    "    with torch.no_grad():\n",
    "        print('Validation set:\\n')\n",
    "        for data in tqdm(val_loader):\n",
    "            data['input_ids'].to(device)\n",
    "            data['attention_mask'].to(device)\n",
    "            data['token_type_ids'].to(device)\n",
    "            data['labels'].to(device)\n",
    "            \n",
    "            pred = model(data['input_ids'], data['attention_mask'], data['token_type_ids'])\n",
    "            val_loss += loss_fn(pred, data['labels']).item()\n",
    "            val_accuracy += torch.sum(pred.argmax(axis=1) == data['labels']).item()\n",
    "\n",
    "    val_loss /= len(val_loader)\n",
    "    val_accuracy /= (len(val_loader) * batch_size)\n",
    "    print(f\"Validation accuracy: {(100*val_accuracy):>0.1f}%, Avg loss: {val_loss:>8f}\")\n",
    "    if val_accuracy > best_val_acc:\n",
    "        best_val_acc = val_accuracy\n",
    "        print('accuracy increased --> saving model\\n')\n",
    "        with open('best_model_bert.pt', 'wb') as model_file:\n",
    "            torch.save(model.state_dict(), model_file)\n",
    "        tolerance = 3\n",
    "    else:\n",
    "        tolerance -= 1\n",
    "        print('accuracy did not increase, tolerance = {}\\n'.format(tolerance))"
   ]
  },
  {
   "cell_type": "code",
   "execution_count": null,
   "metadata": {},
   "outputs": [
    {
     "name": "stderr",
     "output_type": "stream",
     "text": [
      "Some weights of the model checkpoint at bert-base-uncased were not used when initializing BertModel: ['cls.predictions.transform.LayerNorm.bias', 'cls.predictions.transform.dense.bias', 'cls.predictions.transform.dense.weight', 'cls.seq_relationship.weight', 'cls.predictions.decoder.weight', 'cls.predictions.bias', 'cls.predictions.transform.LayerNorm.weight', 'cls.seq_relationship.bias']\n",
      "- This IS expected if you are initializing BertModel from the checkpoint of a model trained on another task or with another architecture (e.g. initializing a BertForSequenceClassification model from a BertForPreTraining model).\n",
      "- This IS NOT expected if you are initializing BertModel from the checkpoint of a model that you expect to be exactly identical (initializing a BertForSequenceClassification model from a BertForSequenceClassification model).\n",
      "100%|██████████| 7/7 [00:41<00:00,  5.97s/it]"
     ]
    },
    {
     "name": "stdout",
     "output_type": "stream",
     "text": [
      "Test set accuracy: 28.6%, Avg loss: 2.449975\n"
     ]
    },
    {
     "name": "stderr",
     "output_type": "stream",
     "text": [
      "\n"
     ]
    }
   ],
   "source": [
    "model = ClassificationBERTModel()\n",
    "model.load_state_dict(torch.load('best_model_bert.pt'))\n",
    "model.eval()\n",
    "\n",
    "test_accuracy = 0\n",
    "test_loss = 0\n",
    "with torch.no_grad():\n",
    "    for data in tqdm(test_loader):\n",
    "        pred = model(data['input_ids'], data['attention_mask'], data['token_type_ids'])\n",
    "        test_loss += loss_fn(pred, data['labels']).item()\n",
    "        test_accuracy += torch.sum(pred.argmax(axis=1) == data['labels']).item()\n",
    "        \n",
    "test_loss /= len(test_loader)\n",
    "test_accuracy /= (len(test_loader) * batch_size)\n",
    "print(f\"Test set accuracy: {(100*test_accuracy):>0.1f}%, Avg loss: {test_loss:>8f}\")"
   ]
  },
  {
   "attachments": {},
   "cell_type": "markdown",
   "metadata": {},
   "source": [
    "## Reporting test and validation accuracy"
   ]
  },
  {
   "cell_type": "code",
   "execution_count": null,
   "metadata": {},
   "outputs": [
    {
     "data": {
      "text/html": [
       "<div>\n",
       "<style scoped>\n",
       "    .dataframe tbody tr th:only-of-type {\n",
       "        vertical-align: middle;\n",
       "    }\n",
       "\n",
       "    .dataframe tbody tr th {\n",
       "        vertical-align: top;\n",
       "    }\n",
       "\n",
       "    .dataframe thead th {\n",
       "        text-align: right;\n",
       "    }\n",
       "</style>\n",
       "<table border=\"1\" class=\"dataframe\">\n",
       "  <thead>\n",
       "    <tr style=\"text-align: right;\">\n",
       "      <th></th>\n",
       "      <th>test</th>\n",
       "      <th>validation</th>\n",
       "    </tr>\n",
       "  </thead>\n",
       "  <tbody>\n",
       "    <tr>\n",
       "      <th>accuracy</th>\n",
       "      <td>0.285714</td>\n",
       "      <td>0.205357</td>\n",
       "    </tr>\n",
       "    <tr>\n",
       "      <th>loss</th>\n",
       "      <td>2.463405</td>\n",
       "      <td>2.443779</td>\n",
       "    </tr>\n",
       "  </tbody>\n",
       "</table>\n",
       "</div>"
      ],
      "text/plain": [
       "              test  validation\n",
       "accuracy  0.285714    0.205357\n",
       "loss      2.463405    2.443779"
      ]
     },
     "execution_count": 172,
     "metadata": {},
     "output_type": "execute_result"
    }
   ],
   "source": [
    "results = np.array([[test_accuracy, best_val_acc],[val_loss, test_loss]])\n",
    "\n",
    "#create dataframe from results\n",
    "results_df = pd.DataFrame(results, columns=['test', 'validation'], index=['accuracy', 'loss'])\n",
    "results_df"
   ]
  },
  {
   "cell_type": "code",
   "execution_count": null,
   "metadata": {},
   "outputs": [],
   "source": []
  }
 ],
 "metadata": {
  "kernelspec": {
   "display_name": "base",
   "language": "python",
   "name": "python3"
  },
  "language_info": {
   "codemirror_mode": {
    "name": "ipython",
    "version": 3
   },
   "file_extension": ".py",
   "mimetype": "text/x-python",
   "name": "python",
   "nbconvert_exporter": "python",
   "pygments_lexer": "ipython3",
   "version": "3.9.15"
  },
  "vscode": {
   "interpreter": {
    "hash": "912eca798e4fc1362d8b8da135b1b843c2e2e25735e9f38f642861cba9c0442b"
   }
  }
 },
 "nbformat": 4,
 "nbformat_minor": 4
}
